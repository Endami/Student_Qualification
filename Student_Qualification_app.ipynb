{
 "cells": [
  {
   "cell_type": "code",
   "execution_count": 1,
   "id": "a2b3d1f0-1b4e-42c3-90d6-8b169fa7c0bf",
   "metadata": {},
   "outputs": [
    {
     "name": "stdin",
     "output_type": "stream",
     "text": [
      "Enter the student's last name (Enter 'ZZZ' to quit):  tony\n",
      "Enter the student's first name:  shawl\n",
      "Enter the student's GPA:  3.6\n"
     ]
    },
    {
     "name": "stdout",
     "output_type": "stream",
     "text": [
      "shawl tony has made the Dean's List.\n"
     ]
    },
    {
     "name": "stdin",
     "output_type": "stream",
     "text": [
      "Enter the student's last name (Enter 'ZZZ' to quit):  clark\n",
      "Enter the student's first name:  jackson\n",
      "Enter the student's GPA:  4.0\n"
     ]
    },
    {
     "name": "stdout",
     "output_type": "stream",
     "text": [
      "jackson clark has made the Dean's List.\n"
     ]
    },
    {
     "name": "stdin",
     "output_type": "stream",
     "text": [
      "Enter the student's last name (Enter 'ZZZ' to quit):  johnson\n",
      "Enter the student's first name:  mike\n",
      "Enter the student's GPA:  3.0\n"
     ]
    },
    {
     "name": "stdout",
     "output_type": "stream",
     "text": [
      "mike johnson does not qualify for Dean's List or Honor Roll.\n"
     ]
    },
    {
     "name": "stdin",
     "output_type": "stream",
     "text": [
      "Enter the student's last name (Enter 'ZZZ' to quit):  longnecker\n",
      "Enter the student's first name:  bill\n",
      "Enter the student's GPA:  3.28\n"
     ]
    },
    {
     "name": "stdout",
     "output_type": "stream",
     "text": [
      "bill longnecker has made the Honor Roll.\n"
     ]
    },
    {
     "name": "stdin",
     "output_type": "stream",
     "text": [
      "Enter the student's last name (Enter 'ZZZ' to quit):  bengiman\n",
      "Enter the student's first name:  jon\n",
      "Enter the student's GPA:  3.245\n"
     ]
    },
    {
     "name": "stdout",
     "output_type": "stream",
     "text": [
      "jon bengiman does not qualify for Dean's List or Honor Roll.\n"
     ]
    },
    {
     "name": "stdin",
     "output_type": "stream",
     "text": [
      "Enter the student's last name (Enter 'ZZZ' to quit):  zzz\n",
      "Enter the student's first name:  .\n",
      "Enter the student's GPA:  2.0\n"
     ]
    },
    {
     "name": "stdout",
     "output_type": "stream",
     "text": [
      ". zzz does not qualify for Dean's List or Honor Roll.\n"
     ]
    },
    {
     "name": "stdin",
     "output_type": "stream",
     "text": [
      "Enter the student's last name (Enter 'ZZZ' to quit):  'ZZZ'\n",
      "Enter the student's first name:  .\n",
      "Enter the student's GPA:  2\n"
     ]
    },
    {
     "name": "stdout",
     "output_type": "stream",
     "text": [
      ". 'ZZZ' does not qualify for Dean's List or Honor Roll.\n"
     ]
    },
    {
     "name": "stdin",
     "output_type": "stream",
     "text": [
      "Enter the student's last name (Enter 'ZZZ' to quit):  ZZZ\n"
     ]
    }
   ],
   "source": [
    "# Richard Clark\n",
    "# student_qualification_app.py\n",
    "# This Python app accepts student names and GPAs to determine if they qualify for the Dean's List or the Honor Roll.\n",
    "\n",
    "while True:\n",
    "    last_name = input(\"Enter the student's last name (Enter 'ZZZ' to quit): \")\n",
    "    if last_name == 'ZZZ':\n",
    "        break\n",
    "\n",
    "    first_name = input(\"Enter the student's first name: \")\n",
    "    gpa = float(input(\"Enter the student's GPA: \"))\n",
    "\n",
    "    if gpa >= 3.5:\n",
    "        print(f\"{first_name} {last_name} has made the Dean's List.\")\n",
    "    elif gpa >= 3.25:\n",
    "        print(f\"{first_name} {last_name} has made the Honor Roll.\")\n",
    "    else:\n",
    "        print(f\"{first_name} {last_name} does not qualify for Dean's List or Honor Roll.\")\n"
   ]
  },
  {
   "cell_type": "code",
   "execution_count": null,
   "id": "70f3f53b-df56-47c8-a80c-e105a57781aa",
   "metadata": {},
   "outputs": [],
   "source": []
  }
 ],
 "metadata": {
  "kernelspec": {
   "display_name": "Python 3 (ipykernel)",
   "language": "python",
   "name": "python3"
  },
  "language_info": {
   "codemirror_mode": {
    "name": "ipython",
    "version": 3
   },
   "file_extension": ".py",
   "mimetype": "text/x-python",
   "name": "python",
   "nbconvert_exporter": "python",
   "pygments_lexer": "ipython3",
   "version": "3.11.7"
  }
 },
 "nbformat": 4,
 "nbformat_minor": 5
}
